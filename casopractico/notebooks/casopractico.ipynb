{
 "cells": [
  {
   "cell_type": "code",
   "execution_count": 37,
   "metadata": {
    "ExecuteTime": {
     "end_time": "2023-12-30T12:26:07.805690Z",
     "start_time": "2023-12-30T12:26:07.625451Z"
    }
   },
   "outputs": [],
   "source": [
    "import pandas as pd "
   ]
  },
  {
   "cell_type": "markdown",
   "metadata": {},
   "source": [
    "Importamos a continuación los datos a memoria y mostramos unos pocos valores con head()."
   ]
  },
  {
   "cell_type": "code",
   "execution_count": 38,
   "metadata": {
    "ExecuteTime": {
     "end_time": "2023-12-30T12:26:07.847616Z",
     "start_time": "2023-12-30T12:26:07.796439Z"
    }
   },
   "outputs": [
    {
     "name": "stdout",
     "output_type": "stream",
     "text": [
      "7043\n"
     ]
    },
    {
     "data": {
      "text/plain": "   customerID  gender  SeniorCitizen Partner Dependents  tenure PhoneService  \\\n0  7590-VHVEG  Female              0     Yes         No       1           No   \n1  5575-GNVDE    Male              0      No         No      34          Yes   \n2  3668-QPYBK    Male              0      No         No       2          Yes   \n3  7795-CFOCW    Male              0      No         No      45           No   \n4  9237-HQITU  Female              0      No         No       2          Yes   \n\n      MultipleLines InternetService OnlineSecurity  ... DeviceProtection  \\\n0  No phone service             DSL             No  ...               No   \n1                No             DSL            Yes  ...              Yes   \n2                No             DSL            Yes  ...               No   \n3  No phone service             DSL            Yes  ...              Yes   \n4                No     Fiber optic             No  ...               No   \n\n  TechSupport StreamingTV StreamingMovies        Contract PaperlessBilling  \\\n0          No          No              No  Month-to-month              Yes   \n1          No          No              No        One year               No   \n2          No          No              No  Month-to-month              Yes   \n3         Yes          No              No        One year               No   \n4          No          No              No  Month-to-month              Yes   \n\n               PaymentMethod MonthlyCharges  TotalCharges Churn  \n0           Electronic check          29.85         29.85    No  \n1               Mailed check          56.95        1889.5    No  \n2               Mailed check          53.85        108.15   Yes  \n3  Bank transfer (automatic)          42.30       1840.75    No  \n4           Electronic check          70.70        151.65   Yes  \n\n[5 rows x 21 columns]",
      "text/html": "<div>\n<style scoped>\n    .dataframe tbody tr th:only-of-type {\n        vertical-align: middle;\n    }\n\n    .dataframe tbody tr th {\n        vertical-align: top;\n    }\n\n    .dataframe thead th {\n        text-align: right;\n    }\n</style>\n<table border=\"1\" class=\"dataframe\">\n  <thead>\n    <tr style=\"text-align: right;\">\n      <th></th>\n      <th>customerID</th>\n      <th>gender</th>\n      <th>SeniorCitizen</th>\n      <th>Partner</th>\n      <th>Dependents</th>\n      <th>tenure</th>\n      <th>PhoneService</th>\n      <th>MultipleLines</th>\n      <th>InternetService</th>\n      <th>OnlineSecurity</th>\n      <th>...</th>\n      <th>DeviceProtection</th>\n      <th>TechSupport</th>\n      <th>StreamingTV</th>\n      <th>StreamingMovies</th>\n      <th>Contract</th>\n      <th>PaperlessBilling</th>\n      <th>PaymentMethod</th>\n      <th>MonthlyCharges</th>\n      <th>TotalCharges</th>\n      <th>Churn</th>\n    </tr>\n  </thead>\n  <tbody>\n    <tr>\n      <th>0</th>\n      <td>7590-VHVEG</td>\n      <td>Female</td>\n      <td>0</td>\n      <td>Yes</td>\n      <td>No</td>\n      <td>1</td>\n      <td>No</td>\n      <td>No phone service</td>\n      <td>DSL</td>\n      <td>No</td>\n      <td>...</td>\n      <td>No</td>\n      <td>No</td>\n      <td>No</td>\n      <td>No</td>\n      <td>Month-to-month</td>\n      <td>Yes</td>\n      <td>Electronic check</td>\n      <td>29.85</td>\n      <td>29.85</td>\n      <td>No</td>\n    </tr>\n    <tr>\n      <th>1</th>\n      <td>5575-GNVDE</td>\n      <td>Male</td>\n      <td>0</td>\n      <td>No</td>\n      <td>No</td>\n      <td>34</td>\n      <td>Yes</td>\n      <td>No</td>\n      <td>DSL</td>\n      <td>Yes</td>\n      <td>...</td>\n      <td>Yes</td>\n      <td>No</td>\n      <td>No</td>\n      <td>No</td>\n      <td>One year</td>\n      <td>No</td>\n      <td>Mailed check</td>\n      <td>56.95</td>\n      <td>1889.5</td>\n      <td>No</td>\n    </tr>\n    <tr>\n      <th>2</th>\n      <td>3668-QPYBK</td>\n      <td>Male</td>\n      <td>0</td>\n      <td>No</td>\n      <td>No</td>\n      <td>2</td>\n      <td>Yes</td>\n      <td>No</td>\n      <td>DSL</td>\n      <td>Yes</td>\n      <td>...</td>\n      <td>No</td>\n      <td>No</td>\n      <td>No</td>\n      <td>No</td>\n      <td>Month-to-month</td>\n      <td>Yes</td>\n      <td>Mailed check</td>\n      <td>53.85</td>\n      <td>108.15</td>\n      <td>Yes</td>\n    </tr>\n    <tr>\n      <th>3</th>\n      <td>7795-CFOCW</td>\n      <td>Male</td>\n      <td>0</td>\n      <td>No</td>\n      <td>No</td>\n      <td>45</td>\n      <td>No</td>\n      <td>No phone service</td>\n      <td>DSL</td>\n      <td>Yes</td>\n      <td>...</td>\n      <td>Yes</td>\n      <td>Yes</td>\n      <td>No</td>\n      <td>No</td>\n      <td>One year</td>\n      <td>No</td>\n      <td>Bank transfer (automatic)</td>\n      <td>42.30</td>\n      <td>1840.75</td>\n      <td>No</td>\n    </tr>\n    <tr>\n      <th>4</th>\n      <td>9237-HQITU</td>\n      <td>Female</td>\n      <td>0</td>\n      <td>No</td>\n      <td>No</td>\n      <td>2</td>\n      <td>Yes</td>\n      <td>No</td>\n      <td>Fiber optic</td>\n      <td>No</td>\n      <td>...</td>\n      <td>No</td>\n      <td>No</td>\n      <td>No</td>\n      <td>No</td>\n      <td>Month-to-month</td>\n      <td>Yes</td>\n      <td>Electronic check</td>\n      <td>70.70</td>\n      <td>151.65</td>\n      <td>Yes</td>\n    </tr>\n  </tbody>\n</table>\n<p>5 rows × 21 columns</p>\n</div>"
     },
     "execution_count": 38,
     "metadata": {},
     "output_type": "execute_result"
    }
   ],
   "source": [
    "df = pd.read_csv('../datasets/WA_Fn-UseC_-Telco-Customer-Churn.csv')\n",
    "print(len(df))\n",
    "df.head()"
   ]
  },
  {
   "cell_type": "markdown",
   "metadata": {},
   "source": [
    "Vemos como se han importado 7043 datos que se encuentran en 5 filas y con 21 columnas. A continuación y para verlo más fácilmente, transponemos las columnas a filas. "
   ]
  },
  {
   "cell_type": "code",
   "execution_count": 39,
   "metadata": {
    "ExecuteTime": {
     "end_time": "2023-12-30T12:26:07.851311Z",
     "start_time": "2023-12-30T12:26:07.821373Z"
    }
   },
   "outputs": [
    {
     "name": "stdout",
     "output_type": "stream",
     "text": [
      "7043\n"
     ]
    },
    {
     "data": {
      "text/plain": "                                 0             1               2  \\\ncustomerID              7590-VHVEG    5575-GNVDE      3668-QPYBK   \ngender                      Female          Male            Male   \nSeniorCitizen                    0             0               0   \nPartner                        Yes            No              No   \nDependents                      No            No              No   \ntenure                           1            34               2   \nPhoneService                    No           Yes             Yes   \nMultipleLines     No phone service            No              No   \nInternetService                DSL           DSL             DSL   \nOnlineSecurity                  No           Yes             Yes   \nOnlineBackup                   Yes            No             Yes   \nDeviceProtection                No           Yes              No   \nTechSupport                     No            No              No   \nStreamingTV                     No            No              No   \nStreamingMovies                 No            No              No   \nContract            Month-to-month      One year  Month-to-month   \nPaperlessBilling               Yes            No             Yes   \nPaymentMethod     Electronic check  Mailed check    Mailed check   \nMonthlyCharges               29.85         56.95           53.85   \nTotalCharges                 29.85        1889.5          108.15   \nChurn                           No            No             Yes   \n\n                                          3                 4  \ncustomerID                       7795-CFOCW        9237-HQITU  \ngender                                 Male            Female  \nSeniorCitizen                             0                 0  \nPartner                                  No                No  \nDependents                               No                No  \ntenure                                   45                 2  \nPhoneService                             No               Yes  \nMultipleLines              No phone service                No  \nInternetService                         DSL       Fiber optic  \nOnlineSecurity                          Yes                No  \nOnlineBackup                             No                No  \nDeviceProtection                        Yes                No  \nTechSupport                             Yes                No  \nStreamingTV                              No                No  \nStreamingMovies                          No                No  \nContract                           One year    Month-to-month  \nPaperlessBilling                         No               Yes  \nPaymentMethod     Bank transfer (automatic)  Electronic check  \nMonthlyCharges                         42.3              70.7  \nTotalCharges                        1840.75            151.65  \nChurn                                    No               Yes  ",
      "text/html": "<div>\n<style scoped>\n    .dataframe tbody tr th:only-of-type {\n        vertical-align: middle;\n    }\n\n    .dataframe tbody tr th {\n        vertical-align: top;\n    }\n\n    .dataframe thead th {\n        text-align: right;\n    }\n</style>\n<table border=\"1\" class=\"dataframe\">\n  <thead>\n    <tr style=\"text-align: right;\">\n      <th></th>\n      <th>0</th>\n      <th>1</th>\n      <th>2</th>\n      <th>3</th>\n      <th>4</th>\n    </tr>\n  </thead>\n  <tbody>\n    <tr>\n      <th>customerID</th>\n      <td>7590-VHVEG</td>\n      <td>5575-GNVDE</td>\n      <td>3668-QPYBK</td>\n      <td>7795-CFOCW</td>\n      <td>9237-HQITU</td>\n    </tr>\n    <tr>\n      <th>gender</th>\n      <td>Female</td>\n      <td>Male</td>\n      <td>Male</td>\n      <td>Male</td>\n      <td>Female</td>\n    </tr>\n    <tr>\n      <th>SeniorCitizen</th>\n      <td>0</td>\n      <td>0</td>\n      <td>0</td>\n      <td>0</td>\n      <td>0</td>\n    </tr>\n    <tr>\n      <th>Partner</th>\n      <td>Yes</td>\n      <td>No</td>\n      <td>No</td>\n      <td>No</td>\n      <td>No</td>\n    </tr>\n    <tr>\n      <th>Dependents</th>\n      <td>No</td>\n      <td>No</td>\n      <td>No</td>\n      <td>No</td>\n      <td>No</td>\n    </tr>\n    <tr>\n      <th>tenure</th>\n      <td>1</td>\n      <td>34</td>\n      <td>2</td>\n      <td>45</td>\n      <td>2</td>\n    </tr>\n    <tr>\n      <th>PhoneService</th>\n      <td>No</td>\n      <td>Yes</td>\n      <td>Yes</td>\n      <td>No</td>\n      <td>Yes</td>\n    </tr>\n    <tr>\n      <th>MultipleLines</th>\n      <td>No phone service</td>\n      <td>No</td>\n      <td>No</td>\n      <td>No phone service</td>\n      <td>No</td>\n    </tr>\n    <tr>\n      <th>InternetService</th>\n      <td>DSL</td>\n      <td>DSL</td>\n      <td>DSL</td>\n      <td>DSL</td>\n      <td>Fiber optic</td>\n    </tr>\n    <tr>\n      <th>OnlineSecurity</th>\n      <td>No</td>\n      <td>Yes</td>\n      <td>Yes</td>\n      <td>Yes</td>\n      <td>No</td>\n    </tr>\n    <tr>\n      <th>OnlineBackup</th>\n      <td>Yes</td>\n      <td>No</td>\n      <td>Yes</td>\n      <td>No</td>\n      <td>No</td>\n    </tr>\n    <tr>\n      <th>DeviceProtection</th>\n      <td>No</td>\n      <td>Yes</td>\n      <td>No</td>\n      <td>Yes</td>\n      <td>No</td>\n    </tr>\n    <tr>\n      <th>TechSupport</th>\n      <td>No</td>\n      <td>No</td>\n      <td>No</td>\n      <td>Yes</td>\n      <td>No</td>\n    </tr>\n    <tr>\n      <th>StreamingTV</th>\n      <td>No</td>\n      <td>No</td>\n      <td>No</td>\n      <td>No</td>\n      <td>No</td>\n    </tr>\n    <tr>\n      <th>StreamingMovies</th>\n      <td>No</td>\n      <td>No</td>\n      <td>No</td>\n      <td>No</td>\n      <td>No</td>\n    </tr>\n    <tr>\n      <th>Contract</th>\n      <td>Month-to-month</td>\n      <td>One year</td>\n      <td>Month-to-month</td>\n      <td>One year</td>\n      <td>Month-to-month</td>\n    </tr>\n    <tr>\n      <th>PaperlessBilling</th>\n      <td>Yes</td>\n      <td>No</td>\n      <td>Yes</td>\n      <td>No</td>\n      <td>Yes</td>\n    </tr>\n    <tr>\n      <th>PaymentMethod</th>\n      <td>Electronic check</td>\n      <td>Mailed check</td>\n      <td>Mailed check</td>\n      <td>Bank transfer (automatic)</td>\n      <td>Electronic check</td>\n    </tr>\n    <tr>\n      <th>MonthlyCharges</th>\n      <td>29.85</td>\n      <td>56.95</td>\n      <td>53.85</td>\n      <td>42.3</td>\n      <td>70.7</td>\n    </tr>\n    <tr>\n      <th>TotalCharges</th>\n      <td>29.85</td>\n      <td>1889.5</td>\n      <td>108.15</td>\n      <td>1840.75</td>\n      <td>151.65</td>\n    </tr>\n    <tr>\n      <th>Churn</th>\n      <td>No</td>\n      <td>No</td>\n      <td>Yes</td>\n      <td>No</td>\n      <td>Yes</td>\n    </tr>\n  </tbody>\n</table>\n</div>"
     },
     "execution_count": 39,
     "metadata": {},
     "output_type": "execute_result"
    }
   ],
   "source": [
    "print(len(df))\n",
    "df.head().T"
   ]
  },
  {
   "cell_type": "markdown",
   "metadata": {},
   "source": [
    "La columna que queremos predecir es **churn** y nos dice si el cliente se ha dado de baja o no en función de los distintos parámetros. \n",
    "\n",
    "Seguimos analizando el dataset viendo los tipos de datos que se han identicado para cada columna:"
   ]
  },
  {
   "cell_type": "code",
   "execution_count": 40,
   "metadata": {
    "ExecuteTime": {
     "end_time": "2023-12-30T12:26:07.865550Z",
     "start_time": "2023-12-30T12:26:07.826526Z"
    }
   },
   "outputs": [
    {
     "data": {
      "text/plain": "customerID           object\ngender               object\nSeniorCitizen         int64\nPartner              object\nDependents           object\ntenure                int64\nPhoneService         object\nMultipleLines        object\nInternetService      object\nOnlineSecurity       object\nOnlineBackup         object\nDeviceProtection     object\nTechSupport          object\nStreamingTV          object\nStreamingMovies      object\nContract             object\nPaperlessBilling     object\nPaymentMethod        object\nMonthlyCharges      float64\nTotalCharges         object\nChurn                object\ndtype: object"
     },
     "execution_count": 40,
     "metadata": {},
     "output_type": "execute_result"
    }
   ],
   "source": [
    "df.dtypes"
   ]
  },
  {
   "cell_type": "markdown",
   "metadata": {},
   "source": [
    "Todo parece tener sentido, salvo **TotalCharges** porque probablemente tengan valores vacíos. Para corregir esto, vamos a realizar lo siguiente:"
   ]
  },
  {
   "cell_type": "code",
   "execution_count": 41,
   "metadata": {
    "ExecuteTime": {
     "end_time": "2023-12-30T12:26:07.883632Z",
     "start_time": "2023-12-30T12:26:07.860452Z"
    }
   },
   "outputs": [
    {
     "data": {
      "text/plain": "      customerID  TotalCharges\n488   4472-LVYGI           0.0\n753   3115-CZMZD           0.0\n936   5709-LVOEQ           0.0\n1082  4367-NUYAO           0.0\n1340  1371-DWPAZ           0.0\n3331  7644-OMVMY           0.0\n3826  3213-VVOLG           0.0\n4380  2520-SGTTA           0.0\n5218  2923-ARZLG           0.0\n6670  4075-WKNIU           0.0\n6754  2775-SEFEE           0.0",
      "text/html": "<div>\n<style scoped>\n    .dataframe tbody tr th:only-of-type {\n        vertical-align: middle;\n    }\n\n    .dataframe tbody tr th {\n        vertical-align: top;\n    }\n\n    .dataframe thead th {\n        text-align: right;\n    }\n</style>\n<table border=\"1\" class=\"dataframe\">\n  <thead>\n    <tr style=\"text-align: right;\">\n      <th></th>\n      <th>customerID</th>\n      <th>TotalCharges</th>\n    </tr>\n  </thead>\n  <tbody>\n    <tr>\n      <th>488</th>\n      <td>4472-LVYGI</td>\n      <td>0.0</td>\n    </tr>\n    <tr>\n      <th>753</th>\n      <td>3115-CZMZD</td>\n      <td>0.0</td>\n    </tr>\n    <tr>\n      <th>936</th>\n      <td>5709-LVOEQ</td>\n      <td>0.0</td>\n    </tr>\n    <tr>\n      <th>1082</th>\n      <td>4367-NUYAO</td>\n      <td>0.0</td>\n    </tr>\n    <tr>\n      <th>1340</th>\n      <td>1371-DWPAZ</td>\n      <td>0.0</td>\n    </tr>\n    <tr>\n      <th>3331</th>\n      <td>7644-OMVMY</td>\n      <td>0.0</td>\n    </tr>\n    <tr>\n      <th>3826</th>\n      <td>3213-VVOLG</td>\n      <td>0.0</td>\n    </tr>\n    <tr>\n      <th>4380</th>\n      <td>2520-SGTTA</td>\n      <td>0.0</td>\n    </tr>\n    <tr>\n      <th>5218</th>\n      <td>2923-ARZLG</td>\n      <td>0.0</td>\n    </tr>\n    <tr>\n      <th>6670</th>\n      <td>4075-WKNIU</td>\n      <td>0.0</td>\n    </tr>\n    <tr>\n      <th>6754</th>\n      <td>2775-SEFEE</td>\n      <td>0.0</td>\n    </tr>\n  </tbody>\n</table>\n</div>"
     },
     "execution_count": 41,
     "metadata": {},
     "output_type": "execute_result"
    }
   ],
   "source": [
    "total_charges = pd.to_numeric(df.TotalCharges, errors='coerce')\n",
    "df.TotalCharges = pd.to_numeric(df.TotalCharges, errors='coerce')\n",
    "df.TotalCharges = df.TotalCharges.fillna(0)\n",
    "df[total_charges.isnull()][['customerID','TotalCharges']]"
   ]
  },
  {
   "cell_type": "markdown",
   "metadata": {},
   "source": [
    "Para dar consistencia a los nombres de columnas (algunas comienzan con minúsculas) y algunos valores como \"No phone service\" tienen espacios en blanco. Vamos a trabajar el dataframe para que sea más consistente."
   ]
  },
  {
   "cell_type": "code",
   "execution_count": 42,
   "metadata": {
    "ExecuteTime": {
     "end_time": "2023-12-30T12:26:07.977682Z",
     "start_time": "2023-12-30T12:26:07.907701Z"
    }
   },
   "outputs": [
    {
     "data": {
      "text/plain": "                                 0             1               2  \\\ncustomerid              7590-vhveg    5575-gnvde      3668-qpybk   \ngender                      female          male            male   \nseniorcitizen                    0             0               0   \npartner                        yes            no              no   \ndependents                      no            no              no   \ntenure                           1            34               2   \nphoneservice                    no           yes             yes   \nmultiplelines     no_phone_service            no              no   \ninternetservice                dsl           dsl             dsl   \nonlinesecurity                  no           yes             yes   \nonlinebackup                   yes            no             yes   \ndeviceprotection                no           yes              no   \ntechsupport                     no            no              no   \nstreamingtv                     no            no              no   \nstreamingmovies                 no            no              no   \ncontract            month-to-month      one_year  month-to-month   \npaperlessbilling               yes            no             yes   \npaymentmethod     electronic_check  mailed_check    mailed_check   \nmonthlycharges               29.85         56.95           53.85   \ntotalcharges                 29.85        1889.5          108.15   \nchurn                           no            no             yes   \n\n                                          3                 4  \ncustomerid                       7795-cfocw        9237-hqitu  \ngender                                 male            female  \nseniorcitizen                             0                 0  \npartner                                  no                no  \ndependents                               no                no  \ntenure                                   45                 2  \nphoneservice                             no               yes  \nmultiplelines              no_phone_service                no  \ninternetservice                         dsl       fiber_optic  \nonlinesecurity                          yes                no  \nonlinebackup                             no                no  \ndeviceprotection                        yes                no  \ntechsupport                             yes                no  \nstreamingtv                              no                no  \nstreamingmovies                          no                no  \ncontract                           one_year    month-to-month  \npaperlessbilling                         no               yes  \npaymentmethod     bank_transfer_(automatic)  electronic_check  \nmonthlycharges                         42.3              70.7  \ntotalcharges                        1840.75            151.65  \nchurn                                    no               yes  ",
      "text/html": "<div>\n<style scoped>\n    .dataframe tbody tr th:only-of-type {\n        vertical-align: middle;\n    }\n\n    .dataframe tbody tr th {\n        vertical-align: top;\n    }\n\n    .dataframe thead th {\n        text-align: right;\n    }\n</style>\n<table border=\"1\" class=\"dataframe\">\n  <thead>\n    <tr style=\"text-align: right;\">\n      <th></th>\n      <th>0</th>\n      <th>1</th>\n      <th>2</th>\n      <th>3</th>\n      <th>4</th>\n    </tr>\n  </thead>\n  <tbody>\n    <tr>\n      <th>customerid</th>\n      <td>7590-vhveg</td>\n      <td>5575-gnvde</td>\n      <td>3668-qpybk</td>\n      <td>7795-cfocw</td>\n      <td>9237-hqitu</td>\n    </tr>\n    <tr>\n      <th>gender</th>\n      <td>female</td>\n      <td>male</td>\n      <td>male</td>\n      <td>male</td>\n      <td>female</td>\n    </tr>\n    <tr>\n      <th>seniorcitizen</th>\n      <td>0</td>\n      <td>0</td>\n      <td>0</td>\n      <td>0</td>\n      <td>0</td>\n    </tr>\n    <tr>\n      <th>partner</th>\n      <td>yes</td>\n      <td>no</td>\n      <td>no</td>\n      <td>no</td>\n      <td>no</td>\n    </tr>\n    <tr>\n      <th>dependents</th>\n      <td>no</td>\n      <td>no</td>\n      <td>no</td>\n      <td>no</td>\n      <td>no</td>\n    </tr>\n    <tr>\n      <th>tenure</th>\n      <td>1</td>\n      <td>34</td>\n      <td>2</td>\n      <td>45</td>\n      <td>2</td>\n    </tr>\n    <tr>\n      <th>phoneservice</th>\n      <td>no</td>\n      <td>yes</td>\n      <td>yes</td>\n      <td>no</td>\n      <td>yes</td>\n    </tr>\n    <tr>\n      <th>multiplelines</th>\n      <td>no_phone_service</td>\n      <td>no</td>\n      <td>no</td>\n      <td>no_phone_service</td>\n      <td>no</td>\n    </tr>\n    <tr>\n      <th>internetservice</th>\n      <td>dsl</td>\n      <td>dsl</td>\n      <td>dsl</td>\n      <td>dsl</td>\n      <td>fiber_optic</td>\n    </tr>\n    <tr>\n      <th>onlinesecurity</th>\n      <td>no</td>\n      <td>yes</td>\n      <td>yes</td>\n      <td>yes</td>\n      <td>no</td>\n    </tr>\n    <tr>\n      <th>onlinebackup</th>\n      <td>yes</td>\n      <td>no</td>\n      <td>yes</td>\n      <td>no</td>\n      <td>no</td>\n    </tr>\n    <tr>\n      <th>deviceprotection</th>\n      <td>no</td>\n      <td>yes</td>\n      <td>no</td>\n      <td>yes</td>\n      <td>no</td>\n    </tr>\n    <tr>\n      <th>techsupport</th>\n      <td>no</td>\n      <td>no</td>\n      <td>no</td>\n      <td>yes</td>\n      <td>no</td>\n    </tr>\n    <tr>\n      <th>streamingtv</th>\n      <td>no</td>\n      <td>no</td>\n      <td>no</td>\n      <td>no</td>\n      <td>no</td>\n    </tr>\n    <tr>\n      <th>streamingmovies</th>\n      <td>no</td>\n      <td>no</td>\n      <td>no</td>\n      <td>no</td>\n      <td>no</td>\n    </tr>\n    <tr>\n      <th>contract</th>\n      <td>month-to-month</td>\n      <td>one_year</td>\n      <td>month-to-month</td>\n      <td>one_year</td>\n      <td>month-to-month</td>\n    </tr>\n    <tr>\n      <th>paperlessbilling</th>\n      <td>yes</td>\n      <td>no</td>\n      <td>yes</td>\n      <td>no</td>\n      <td>yes</td>\n    </tr>\n    <tr>\n      <th>paymentmethod</th>\n      <td>electronic_check</td>\n      <td>mailed_check</td>\n      <td>mailed_check</td>\n      <td>bank_transfer_(automatic)</td>\n      <td>electronic_check</td>\n    </tr>\n    <tr>\n      <th>monthlycharges</th>\n      <td>29.85</td>\n      <td>56.95</td>\n      <td>53.85</td>\n      <td>42.3</td>\n      <td>70.7</td>\n    </tr>\n    <tr>\n      <th>totalcharges</th>\n      <td>29.85</td>\n      <td>1889.5</td>\n      <td>108.15</td>\n      <td>1840.75</td>\n      <td>151.65</td>\n    </tr>\n    <tr>\n      <th>churn</th>\n      <td>no</td>\n      <td>no</td>\n      <td>yes</td>\n      <td>no</td>\n      <td>yes</td>\n    </tr>\n  </tbody>\n</table>\n</div>"
     },
     "execution_count": 42,
     "metadata": {},
     "output_type": "execute_result"
    }
   ],
   "source": [
    "replacer = lambda str: str.lower().str.replace(' ', '_')\n",
    "\n",
    "df.columns = replacer(df.columns.str)\n",
    "for col in list(df.dtypes[df.dtypes == 'object'].index):\n",
    "    df[col] = replacer(df[col].str)\n",
    "df.head().T"
   ]
  },
  {
   "cell_type": "markdown",
   "metadata": {},
   "source": [
    "Podemos comprobar que se han sustituido los espacios por líneas de subrayado.\n",
    "\n",
    "Otra modificación que podríamos hacer es, cambiar el tipo de valor de la variable *churn* para trabajarla de manera más sencilla pasándola a tipo de dato entero con valores 0 ó 1."
   ]
  },
  {
   "cell_type": "code",
   "execution_count": 43,
   "metadata": {
    "ExecuteTime": {
     "end_time": "2023-12-30T12:26:08.025677Z",
     "start_time": "2023-12-30T12:26:07.934305Z"
    }
   },
   "outputs": [
    {
     "data": {
      "text/plain": "0    0\n1    0\n2    1\n3    0\n4    1\nName: churn, dtype: int64"
     },
     "execution_count": 43,
     "metadata": {},
     "output_type": "execute_result"
    }
   ],
   "source": [
    "df.churn = (df.churn == 'yes').astype(int)\n",
    "df.churn.head()"
   ]
  },
  {
   "cell_type": "code",
   "execution_count": 44,
   "metadata": {
    "ExecuteTime": {
     "end_time": "2023-12-30T12:26:08.149447Z",
     "start_time": "2023-12-30T12:26:08.026711Z"
    }
   },
   "outputs": [
    {
     "data": {
      "text/plain": "customerid           object\ngender               object\nseniorcitizen         int64\npartner              object\ndependents           object\ntenure                int64\nphoneservice         object\nmultiplelines        object\ninternetservice      object\nonlinesecurity       object\nonlinebackup         object\ndeviceprotection     object\ntechsupport          object\nstreamingtv          object\nstreamingmovies      object\ncontract             object\npaperlessbilling     object\npaymentmethod        object\nmonthlycharges      float64\ntotalcharges        float64\nchurn                 int64\ndtype: object"
     },
     "execution_count": 44,
     "metadata": {},
     "output_type": "execute_result"
    }
   ],
   "source": [
    "df.dtypes"
   ]
  },
  {
   "cell_type": "markdown",
   "metadata": {},
   "source": [
    "Un problema que podría darse es que se encontraran valores categóricos erróneos en el sistema. Esto puede comprobarse, a veces, listando el número de valores que tiene cada una de las columnas categóricas. \n",
    "En el siguiente script realizamos la cuenta de valores únicos de cada uno de ellos:"
   ]
  },
  {
   "cell_type": "code",
   "execution_count": 45,
   "metadata": {
    "ExecuteTime": {
     "end_time": "2023-12-30T12:26:08.226046Z",
     "start_time": "2023-12-30T12:26:08.152272Z"
    }
   },
   "outputs": [
    {
     "data": {
      "text/plain": "gender              2\nseniorcitizen       2\npartner             2\ndependents          2\nphoneservice        2\nmultiplelines       3\ninternetservice     3\nonlinesecurity      3\nonlinebackup        3\ndeviceprotection    3\ntechsupport         3\nstreamingtv         3\nstreamingmovies     3\ncontract            3\npaperlessbilling    2\npaymentmethod       4\ndtype: int64"
     },
     "execution_count": 45,
     "metadata": {},
     "output_type": "execute_result"
    }
   ],
   "source": [
    "categorical = ['gender', 'seniorcitizen', 'partner', 'dependents', 'phoneservice', 'multiplelines','internetservice','onlinesecurity','onlinebackup','deviceprotection', 'techsupport','streamingtv','streamingmovies','contract','paperlessbilling', 'paymentmethod']\n",
    "numerical =['tenure','monthlycharges','totalcharges']\n",
    "df[categorical].nunique()"
   ]
  },
  {
   "cell_type": "markdown",
   "metadata": {},
   "source": [
    "Una vez el dataset preparado, podemos pasar a dividir el dataset en dos partes:\n",
    "una para datos de entrenamiento y otra para datos de prueba. \n",
    "\n",
    "Asignaremos un 20% para datos de test y el resto para entrenamiento. \n",
    "Especificamos un valor para **random_state** de forma que el dataset sea reproducible en ejecuciones posteriores. \n"
   ]
  },
  {
   "cell_type": "code",
   "execution_count": 46,
   "metadata": {
    "ExecuteTime": {
     "end_time": "2023-12-30T12:26:08.250011Z",
     "start_time": "2023-12-30T12:26:08.228614Z"
    }
   },
   "outputs": [],
   "source": [
    "from sklearn.model_selection import train_test_split\n",
    "df_train_full, df_test = train_test_split(df, test_size=0.2, random_state=1)"
   ]
  },
  {
   "cell_type": "markdown",
   "metadata": {},
   "source": [
    "Dividimos de nuevo los datos entre:  \n",
    "> **df_train**: datos de entrenamiento reales  \n",
    "> **df_val**: datos de validación (para comprobar que nuestro modelo predice los datos realmente)  "
   ]
  },
  {
   "cell_type": "code",
   "execution_count": 47,
   "metadata": {
    "ExecuteTime": {
     "end_time": "2023-12-30T12:26:08.290730Z",
     "start_time": "2023-12-30T12:26:08.242569Z"
    }
   },
   "outputs": [],
   "source": [
    "df_train, df_val = train_test_split(df_train_full, test_size=0.33, random_state=1)\n",
    "y_train = df_train.churn.values\n",
    "y_val = df_val.churn.values"
   ]
  },
  {
   "cell_type": "markdown",
   "metadata": {},
   "source": [
    "En el proceso anterior, tomamos un 33% para un tipo y el resto para el otro y mantenemos **random_state** para poder reproducirlo.\n",
    "\n",
    "Finalmente, eliminamos la columna *churn*, que anteriormente se han guardado en dos variables. De esta manera no se utilicen para el entrenamiento."
   ]
  },
  {
   "cell_type": "code",
   "execution_count": 48,
   "metadata": {
    "ExecuteTime": {
     "end_time": "2023-12-30T12:26:08.295842Z",
     "start_time": "2023-12-30T12:26:08.257674Z"
    }
   },
   "outputs": [
    {
     "data": {
      "text/plain": "                              4204                     7034              5146  \\\ncustomerid              4395-pzmsn               0639-tsiqw        3797-fkogq   \ngender                        male                   female              male   \nseniorcitizen                    1                        0                 0   \npartner                         no                       no                no   \ndependents                      no                       no               yes   \ntenure                           5                       67                11   \nphoneservice                   yes                      yes               yes   \nmultiplelines                   no                      yes               yes   \ninternetservice        fiber_optic              fiber_optic       fiber_optic   \nonlinesecurity                  no                      yes                no   \nonlinebackup                   yes                      yes                no   \ndeviceprotection                no                      yes                no   \ntechsupport                     no                       no                no   \nstreamingtv                     no                      yes                no   \nstreamingmovies                yes                       no               yes   \ncontract            month-to-month           month-to-month    month-to-month   \npaperlessbilling               yes                      yes                no   \npaymentmethod     electronic_check  credit_card_(automatic)  electronic_check   \nmonthlycharges               85.55                   102.95              86.2   \ntotalcharges                 408.5                  6886.25             893.2   \n\n                                       5184              1310  \ncustomerid                       7570-welny        6393-wryze  \ngender                               female            female  \nseniorcitizen                             0                 0  \npartner                                 yes               yes  \ndependents                               no                no  \ntenure                                   68                34  \nphoneservice                            yes               yes  \nmultiplelines                           yes               yes  \ninternetservice                 fiber_optic       fiber_optic  \nonlinesecurity                          yes                no  \nonlinebackup                            yes                no  \ndeviceprotection                         no                no  \ntechsupport                              no                no  \nstreamingtv                              no               yes  \nstreamingmovies                          no               yes  \ncontract                           two_year    month-to-month  \npaperlessbilling                        yes               yes  \npaymentmethod     bank_transfer_(automatic)  electronic_check  \nmonthlycharges                         84.7             97.65  \ntotalcharges                        5711.05           3207.55  ",
      "text/html": "<div>\n<style scoped>\n    .dataframe tbody tr th:only-of-type {\n        vertical-align: middle;\n    }\n\n    .dataframe tbody tr th {\n        vertical-align: top;\n    }\n\n    .dataframe thead th {\n        text-align: right;\n    }\n</style>\n<table border=\"1\" class=\"dataframe\">\n  <thead>\n    <tr style=\"text-align: right;\">\n      <th></th>\n      <th>4204</th>\n      <th>7034</th>\n      <th>5146</th>\n      <th>5184</th>\n      <th>1310</th>\n    </tr>\n  </thead>\n  <tbody>\n    <tr>\n      <th>customerid</th>\n      <td>4395-pzmsn</td>\n      <td>0639-tsiqw</td>\n      <td>3797-fkogq</td>\n      <td>7570-welny</td>\n      <td>6393-wryze</td>\n    </tr>\n    <tr>\n      <th>gender</th>\n      <td>male</td>\n      <td>female</td>\n      <td>male</td>\n      <td>female</td>\n      <td>female</td>\n    </tr>\n    <tr>\n      <th>seniorcitizen</th>\n      <td>1</td>\n      <td>0</td>\n      <td>0</td>\n      <td>0</td>\n      <td>0</td>\n    </tr>\n    <tr>\n      <th>partner</th>\n      <td>no</td>\n      <td>no</td>\n      <td>no</td>\n      <td>yes</td>\n      <td>yes</td>\n    </tr>\n    <tr>\n      <th>dependents</th>\n      <td>no</td>\n      <td>no</td>\n      <td>yes</td>\n      <td>no</td>\n      <td>no</td>\n    </tr>\n    <tr>\n      <th>tenure</th>\n      <td>5</td>\n      <td>67</td>\n      <td>11</td>\n      <td>68</td>\n      <td>34</td>\n    </tr>\n    <tr>\n      <th>phoneservice</th>\n      <td>yes</td>\n      <td>yes</td>\n      <td>yes</td>\n      <td>yes</td>\n      <td>yes</td>\n    </tr>\n    <tr>\n      <th>multiplelines</th>\n      <td>no</td>\n      <td>yes</td>\n      <td>yes</td>\n      <td>yes</td>\n      <td>yes</td>\n    </tr>\n    <tr>\n      <th>internetservice</th>\n      <td>fiber_optic</td>\n      <td>fiber_optic</td>\n      <td>fiber_optic</td>\n      <td>fiber_optic</td>\n      <td>fiber_optic</td>\n    </tr>\n    <tr>\n      <th>onlinesecurity</th>\n      <td>no</td>\n      <td>yes</td>\n      <td>no</td>\n      <td>yes</td>\n      <td>no</td>\n    </tr>\n    <tr>\n      <th>onlinebackup</th>\n      <td>yes</td>\n      <td>yes</td>\n      <td>no</td>\n      <td>yes</td>\n      <td>no</td>\n    </tr>\n    <tr>\n      <th>deviceprotection</th>\n      <td>no</td>\n      <td>yes</td>\n      <td>no</td>\n      <td>no</td>\n      <td>no</td>\n    </tr>\n    <tr>\n      <th>techsupport</th>\n      <td>no</td>\n      <td>no</td>\n      <td>no</td>\n      <td>no</td>\n      <td>no</td>\n    </tr>\n    <tr>\n      <th>streamingtv</th>\n      <td>no</td>\n      <td>yes</td>\n      <td>no</td>\n      <td>no</td>\n      <td>yes</td>\n    </tr>\n    <tr>\n      <th>streamingmovies</th>\n      <td>yes</td>\n      <td>no</td>\n      <td>yes</td>\n      <td>no</td>\n      <td>yes</td>\n    </tr>\n    <tr>\n      <th>contract</th>\n      <td>month-to-month</td>\n      <td>month-to-month</td>\n      <td>month-to-month</td>\n      <td>two_year</td>\n      <td>month-to-month</td>\n    </tr>\n    <tr>\n      <th>paperlessbilling</th>\n      <td>yes</td>\n      <td>yes</td>\n      <td>no</td>\n      <td>yes</td>\n      <td>yes</td>\n    </tr>\n    <tr>\n      <th>paymentmethod</th>\n      <td>electronic_check</td>\n      <td>credit_card_(automatic)</td>\n      <td>electronic_check</td>\n      <td>bank_transfer_(automatic)</td>\n      <td>electronic_check</td>\n    </tr>\n    <tr>\n      <th>monthlycharges</th>\n      <td>85.55</td>\n      <td>102.95</td>\n      <td>86.2</td>\n      <td>84.7</td>\n      <td>97.65</td>\n    </tr>\n    <tr>\n      <th>totalcharges</th>\n      <td>408.5</td>\n      <td>6886.25</td>\n      <td>893.2</td>\n      <td>5711.05</td>\n      <td>3207.55</td>\n    </tr>\n  </tbody>\n</table>\n</div>"
     },
     "execution_count": 48,
     "metadata": {},
     "output_type": "execute_result"
    }
   ],
   "source": [
    "del df_train['churn']\n",
    "del df_val['churn']\n",
    "\n",
    "df_train.head().T"
   ]
  },
  {
   "cell_type": "markdown",
   "metadata": {},
   "source": [
    "## 2 Análisis de importancia de propiedades"
   ]
  },
  {
   "cell_type": "markdown",
   "metadata": {},
   "source": [
    "A continuación, vamos a comprobar el porcentaje de clientes que se han dado de baja del servicio, utilizando el dataset.\n",
    "\n",
    "Como ya hicimos una transformación de la columna **churn** a valores 0 y 1, desde los primitivos Yes, No, ahora podemos utilizarla para calcular la media sobre 1. Es decir, podremos calcular el porcentaje de 1s que hay en la columna. "
   ]
  },
  {
   "cell_type": "code",
   "execution_count": 49,
   "metadata": {
    "ExecuteTime": {
     "end_time": "2023-12-30T12:26:08.328979Z",
     "start_time": "2023-12-30T12:26:08.298048Z"
    }
   },
   "outputs": [
    {
     "data": {
      "text/plain": "0.27"
     },
     "execution_count": 49,
     "metadata": {},
     "output_type": "execute_result"
    }
   ],
   "source": [
    "global_mean = df_train_full.churn.mean()\n",
    "round(global_mean, 3)"
   ]
  },
  {
   "cell_type": "markdown",
   "metadata": {},
   "source": [
    "Vemos al ejecutar el elemento anterior, que el valor medio de 1 que se encuentran, que hay un 27% de personas que se han dado de baja del servicio.\n",
    "\n",
    "Sabiendo esta media/probabilidad global de todas las filas con churn, ahora podemos ir viendo para cada una de las columnas si la probabilidad de cada tipo se acerca a la global.\n",
    "\n",
    "A continuación lo comprobamos utilizando la columna gender-female / male y así comparamos por sexo:"
   ]
  },
  {
   "cell_type": "code",
   "execution_count": 50,
   "metadata": {
    "ExecuteTime": {
     "end_time": "2023-12-30T12:26:08.382263Z",
     "start_time": "2023-12-30T12:26:08.330432Z"
    }
   },
   "outputs": [
    {
     "name": "stdout",
     "output_type": "stream",
     "text": [
      "0.277\n",
      "0.263\n"
     ]
    }
   ],
   "source": [
    "female_mean = df_train_full[df_train_full.gender == 'female'].churn.mean()\n",
    "print(round(female_mean, 3))\n",
    "male_mean = df_train_full[df_train_full.gender == 'male'].churn.mean()\n",
    "print(round(male_mean, 3))"
   ]
  },
  {
   "cell_type": "markdown",
   "metadata": {},
   "source": [
    "Se puede apreciar como el porcentaje de mujeres (female_mean) es 0.277 muy muy cercano a la media obtenida del total. En el caso de los hombres, sucede lo mismo: el porcentaje es muy similar. \n",
    "Así las cosas podemos interpretar que: *el sexo no es una variable que repercuta en el porcentaje de población que se da de baja de nuestro servicio.*"
   ]
  },
  {
   "cell_type": "code",
   "execution_count": 51,
   "metadata": {
    "ExecuteTime": {
     "end_time": "2023-12-30T12:26:08.436457Z",
     "start_time": "2023-12-30T12:26:08.357056Z"
    }
   },
   "outputs": [
    {
     "name": "stdout",
     "output_type": "stream",
     "text": [
      "0.205\n",
      "0.33\n"
     ]
    }
   ],
   "source": [
    "partner_yes = df_train_full[df_train_full.partner == 'yes'].churn.mean()\n",
    "print(round(partner_yes, 3))\n",
    "partner_no = df_train_full[df_train_full.partner == 'no'].churn.mean()\n",
    "print(round(partner_no, 3))"
   ]
  },
  {
   "cell_type": "code",
   "execution_count": 52,
   "metadata": {
    "ExecuteTime": {
     "end_time": "2023-12-30T12:26:08.508746Z",
     "start_time": "2023-12-30T12:26:08.444056Z"
    }
   },
   "outputs": [
    {
     "data": {
      "text/plain": "                        MI\ncontract          0.098320\nonlinesecurity    0.063085\ntechsupport       0.061032\ninternetservice   0.055868\nonlinebackup      0.046923\ndeviceprotection  0.043453\npaymentmethod     0.043210\nstreamingtv       0.031853\nstreamingmovies   0.031581\npaperlessbilling  0.017589\ndependents        0.012346\npartner           0.009968\nseniorcitizen     0.009410\nmultiplelines     0.000857\nphoneservice      0.000229\ngender            0.000117",
      "text/html": "<div>\n<style scoped>\n    .dataframe tbody tr th:only-of-type {\n        vertical-align: middle;\n    }\n\n    .dataframe tbody tr th {\n        vertical-align: top;\n    }\n\n    .dataframe thead th {\n        text-align: right;\n    }\n</style>\n<table border=\"1\" class=\"dataframe\">\n  <thead>\n    <tr style=\"text-align: right;\">\n      <th></th>\n      <th>MI</th>\n    </tr>\n  </thead>\n  <tbody>\n    <tr>\n      <th>contract</th>\n      <td>0.098320</td>\n    </tr>\n    <tr>\n      <th>onlinesecurity</th>\n      <td>0.063085</td>\n    </tr>\n    <tr>\n      <th>techsupport</th>\n      <td>0.061032</td>\n    </tr>\n    <tr>\n      <th>internetservice</th>\n      <td>0.055868</td>\n    </tr>\n    <tr>\n      <th>onlinebackup</th>\n      <td>0.046923</td>\n    </tr>\n    <tr>\n      <th>deviceprotection</th>\n      <td>0.043453</td>\n    </tr>\n    <tr>\n      <th>paymentmethod</th>\n      <td>0.043210</td>\n    </tr>\n    <tr>\n      <th>streamingtv</th>\n      <td>0.031853</td>\n    </tr>\n    <tr>\n      <th>streamingmovies</th>\n      <td>0.031581</td>\n    </tr>\n    <tr>\n      <th>paperlessbilling</th>\n      <td>0.017589</td>\n    </tr>\n    <tr>\n      <th>dependents</th>\n      <td>0.012346</td>\n    </tr>\n    <tr>\n      <th>partner</th>\n      <td>0.009968</td>\n    </tr>\n    <tr>\n      <th>seniorcitizen</th>\n      <td>0.009410</td>\n    </tr>\n    <tr>\n      <th>multiplelines</th>\n      <td>0.000857</td>\n    </tr>\n    <tr>\n      <th>phoneservice</th>\n      <td>0.000229</td>\n    </tr>\n    <tr>\n      <th>gender</th>\n      <td>0.000117</td>\n    </tr>\n  </tbody>\n</table>\n</div>"
     },
     "execution_count": 52,
     "metadata": {},
     "output_type": "execute_result"
    }
   ],
   "source": [
    "from sklearn.metrics import mutual_info_score\n",
    "calculate_mi = lambda col: mutual_info_score(col, df_train_full.churn)\n",
    "\n",
    "df_mi = df_train_full[categorical].apply(calculate_mi)\n",
    "df_mi = df_mi.sort_values(ascending=False).to_frame(name='MI')\n",
    "df_mi\n"
   ]
  },
  {
   "cell_type": "markdown",
   "metadata": {},
   "source": [
    "#### ⚠️ Importante (PREGUNTA) \n",
    "Si queremos comprobar como afectan las variables numéricas (hasta ahora hemos usado solo las categóricas), podemos utilizar el [coeficiente de correlación de Pearson](https://es.wikipedia.org/wiki/Coeficiente_de_correlaci%C3%B3n_de_Pearson).\n",
    "\n",
    "Significado:\n",
    "- 0 - No hay ninguna relación\n",
    "- Negativo - Relación inversa\n",
    "- Positivo - Relación directa\n",
    "\n",
    "Ejemplo Relación Directa (variable mujer): A más mujeres más churn (mayor número de bajas)\n",
    "\n",
    "Ejemplo en las siguientes:\n",
    "- Ternure (Tiempo en la empresa) - A más tiempo en la empresa, menor probabilidad de darse de baja\n",
    "- Montly Charges - A más coste, más probabilidad de darse de baja\n",
    "- Total Charges - Cuanto más dinero total gastado en la empreasa (implica más tiempo), menor probabilidad de darse de baja.\n",
    "  - Aunque como se ve esta más cerca de 0 que la de Ternure ya que si el coste es alto, el total charges también será más grande y podrá haber más probabilidad de darse de baja que si esta en la empresa mucho tiempo pagando poco "
   ]
  },
  {
   "cell_type": "code",
   "execution_count": 53,
   "metadata": {
    "ExecuteTime": {
     "end_time": "2023-12-30T12:26:08.520752Z",
     "start_time": "2023-12-30T12:26:08.506414Z"
    }
   },
   "outputs": [
    {
     "name": "stdout",
     "output_type": "stream",
     "text": [
      "tenure           -0.351885\n",
      "monthlycharges    0.196805\n",
      "totalcharges     -0.196353\n",
      "dtype: float64\n"
     ]
    }
   ],
   "source": [
    "print(df_train_full[numerical].corrwith(df_train_full.churn))"
   ]
  },
  {
   "cell_type": "code",
   "execution_count": 54,
   "metadata": {
    "ExecuteTime": {
     "end_time": "2023-12-30T12:26:08.529362Z",
     "start_time": "2023-12-30T12:26:08.510221Z"
    }
   },
   "outputs": [
    {
     "name": "stdout",
     "output_type": "stream",
     "text": [
      "0.595\n"
     ]
    }
   ],
   "source": [
    "print(round(df_train_full[df_train_full.tenure <= 2].churn.mean(),3))"
   ]
  },
  {
   "cell_type": "markdown",
   "metadata": {},
   "source": [
    "# 3. Ingeniería de propiedades"
   ]
  },
  {
   "cell_type": "markdown",
   "metadata": {},
   "source": [
    "En este apartado vamos a tratar los distintos parámetros para que sean aceptados y se puedan utilizar con los distintos algoritmos de aprendizaje automático."
   ]
  },
  {
   "cell_type": "code",
   "execution_count": 55,
   "metadata": {
    "ExecuteTime": {
     "end_time": "2023-12-30T12:26:08.606299Z",
     "start_time": "2023-12-30T12:26:08.521352Z"
    }
   },
   "outputs": [
    {
     "data": {
      "text/plain": "{'contract': 'month-to-month',\n 'dependents': 'no',\n 'deviceprotection': 'no',\n 'gender': 'male',\n 'internetservice': 'fiber_optic',\n 'monthlycharges': 85.55,\n 'multiplelines': 'no',\n 'onlinebackup': 'yes',\n 'onlinesecurity': 'no',\n 'paperlessbilling': 'yes',\n 'partner': 'no',\n 'paymentmethod': 'electronic_check',\n 'phoneservice': 'yes',\n 'seniorcitizen': 1,\n 'streamingmovies': 'yes',\n 'streamingtv': 'no',\n 'techsupport': 'no',\n 'tenure': 5,\n 'totalcharges': 408.5}"
     },
     "execution_count": 55,
     "metadata": {},
     "output_type": "execute_result"
    }
   ],
   "source": [
    "train_dict = df_train[categorical + numerical].to_dict(orient='records')\n",
    "dict(sorted(train_dict[0].items()))"
   ]
  },
  {
   "cell_type": "markdown",
   "metadata": {},
   "source": [
    "La función a la que se llama para realizar la conversión que se muestra en el código anterior es `.to_dict` que genera un diccionario desde el array y **orient='records'** que le indica que sean los primeros valores de cada uno de los pares del diccionario, las cabeceras de las columnas (arrays) que teníamos."
   ]
  },
  {
   "cell_type": "markdown",
   "metadata": {},
   "source": [
    "En el paso anterior, convertimos los items de entrenamiento en una lista de diccionarios donde, la clave es el nombre de la columna y los valores, todos los valores que toman cada una de las filas.\n",
    "\n",
    "Una vez hecho esto, debemos transformar los datos a un formato que sea optimo para nuestro algoritmo. En el caso de trabajo, usaremos un modelo de regresión logística para clasificación binaria. Este algoritmo espera los datos en forma de una matriz numérica. Sin embargo, en nuestro ejemplo tenemos valores categóricos.. Para ello usaremos una transformación denominada [ONE-HOT ENCODING](https://es.wikipedia.org/wiki/One-hot)\n",
    "\n",
    "El método de codificación llamado *One Hot Encoding* consiste en crear una columna binaria (que solo puede contener los valores 0 o 1) para cada valor único que exista en la variable categórica que estamos codificando, y marcar con un 1 la columna correspondiente al valor presente en cada registro, dejando las demás columnas con un valor de 0. \n",
    "\n",
    "Por ejemplo, en el caso de la variable \"gender\" del ejercicio, One Hot Encoding crearía dos columnas binarias (una para el valor \"male\" y otra para el valor \"female\"). Para cada cliente, se asignaría un valor de 1 a la columna correspondiente a su género y un valor de 0 a la columna del género opuesto. De esta manera, cada registro queda representado por un vector binario que indica la presencia o ausencia de cada valor categórico, y se evita la posibilidad de que los algoritmos malinterpreten los valores numéricos asignados"
   ]
  },
  {
   "cell_type": "code",
   "execution_count": 56,
   "metadata": {
    "ExecuteTime": {
     "end_time": "2023-12-30T12:26:08.609643Z",
     "start_time": "2023-12-30T12:26:08.561719Z"
    }
   },
   "outputs": [
    {
     "data": {
      "text/plain": "DictVectorizer(sparse=False)",
      "text/html": "<style>#sk-container-id-3 {color: black;}#sk-container-id-3 pre{padding: 0;}#sk-container-id-3 div.sk-toggleable {background-color: white;}#sk-container-id-3 label.sk-toggleable__label {cursor: pointer;display: block;width: 100%;margin-bottom: 0;padding: 0.3em;box-sizing: border-box;text-align: center;}#sk-container-id-3 label.sk-toggleable__label-arrow:before {content: \"▸\";float: left;margin-right: 0.25em;color: #696969;}#sk-container-id-3 label.sk-toggleable__label-arrow:hover:before {color: black;}#sk-container-id-3 div.sk-estimator:hover label.sk-toggleable__label-arrow:before {color: black;}#sk-container-id-3 div.sk-toggleable__content {max-height: 0;max-width: 0;overflow: hidden;text-align: left;background-color: #f0f8ff;}#sk-container-id-3 div.sk-toggleable__content pre {margin: 0.2em;color: black;border-radius: 0.25em;background-color: #f0f8ff;}#sk-container-id-3 input.sk-toggleable__control:checked~div.sk-toggleable__content {max-height: 200px;max-width: 100%;overflow: auto;}#sk-container-id-3 input.sk-toggleable__control:checked~label.sk-toggleable__label-arrow:before {content: \"▾\";}#sk-container-id-3 div.sk-estimator input.sk-toggleable__control:checked~label.sk-toggleable__label {background-color: #d4ebff;}#sk-container-id-3 div.sk-label input.sk-toggleable__control:checked~label.sk-toggleable__label {background-color: #d4ebff;}#sk-container-id-3 input.sk-hidden--visually {border: 0;clip: rect(1px 1px 1px 1px);clip: rect(1px, 1px, 1px, 1px);height: 1px;margin: -1px;overflow: hidden;padding: 0;position: absolute;width: 1px;}#sk-container-id-3 div.sk-estimator {font-family: monospace;background-color: #f0f8ff;border: 1px dotted black;border-radius: 0.25em;box-sizing: border-box;margin-bottom: 0.5em;}#sk-container-id-3 div.sk-estimator:hover {background-color: #d4ebff;}#sk-container-id-3 div.sk-parallel-item::after {content: \"\";width: 100%;border-bottom: 1px solid gray;flex-grow: 1;}#sk-container-id-3 div.sk-label:hover label.sk-toggleable__label {background-color: #d4ebff;}#sk-container-id-3 div.sk-serial::before {content: \"\";position: absolute;border-left: 1px solid gray;box-sizing: border-box;top: 0;bottom: 0;left: 50%;z-index: 0;}#sk-container-id-3 div.sk-serial {display: flex;flex-direction: column;align-items: center;background-color: white;padding-right: 0.2em;padding-left: 0.2em;position: relative;}#sk-container-id-3 div.sk-item {position: relative;z-index: 1;}#sk-container-id-3 div.sk-parallel {display: flex;align-items: stretch;justify-content: center;background-color: white;position: relative;}#sk-container-id-3 div.sk-item::before, #sk-container-id-3 div.sk-parallel-item::before {content: \"\";position: absolute;border-left: 1px solid gray;box-sizing: border-box;top: 0;bottom: 0;left: 50%;z-index: -1;}#sk-container-id-3 div.sk-parallel-item {display: flex;flex-direction: column;z-index: 1;position: relative;background-color: white;}#sk-container-id-3 div.sk-parallel-item:first-child::after {align-self: flex-end;width: 50%;}#sk-container-id-3 div.sk-parallel-item:last-child::after {align-self: flex-start;width: 50%;}#sk-container-id-3 div.sk-parallel-item:only-child::after {width: 0;}#sk-container-id-3 div.sk-dashed-wrapped {border: 1px dashed gray;margin: 0 0.4em 0.5em 0.4em;box-sizing: border-box;padding-bottom: 0.4em;background-color: white;}#sk-container-id-3 div.sk-label label {font-family: monospace;font-weight: bold;display: inline-block;line-height: 1.2em;}#sk-container-id-3 div.sk-label-container {text-align: center;}#sk-container-id-3 div.sk-container {/* jupyter's `normalize.less` sets `[hidden] { display: none; }` but bootstrap.min.css set `[hidden] { display: none !important; }` so we also need the `!important` here to be able to override the default hidden behavior on the sphinx rendered scikit-learn.org. See: https://github.com/scikit-learn/scikit-learn/issues/21755 */display: inline-block !important;position: relative;}#sk-container-id-3 div.sk-text-repr-fallback {display: none;}</style><div id=\"sk-container-id-3\" class=\"sk-top-container\"><div class=\"sk-text-repr-fallback\"><pre>DictVectorizer(sparse=False)</pre><b>In a Jupyter environment, please rerun this cell to show the HTML representation or trust the notebook. <br />On GitHub, the HTML representation is unable to render, please try loading this page with nbviewer.org.</b></div><div class=\"sk-container\" hidden><div class=\"sk-item\"><div class=\"sk-estimator sk-toggleable\"><input class=\"sk-toggleable__control sk-hidden--visually\" id=\"sk-estimator-id-3\" type=\"checkbox\" checked><label for=\"sk-estimator-id-3\" class=\"sk-toggleable__label sk-toggleable__label-arrow\">DictVectorizer</label><div class=\"sk-toggleable__content\"><pre>DictVectorizer(sparse=False)</pre></div></div></div></div></div>"
     },
     "execution_count": 56,
     "metadata": {},
     "output_type": "execute_result"
    }
   ],
   "source": [
    "from sklearn.feature_extraction import DictVectorizer\n",
    "\n",
    "dv = DictVectorizer(sparse=False)\n",
    "dv.fit(train_dict)"
   ]
  },
  {
   "cell_type": "markdown",
   "metadata": {},
   "source": [
    "Una vez realizado lo anterior, podemos pasar a transformar el diccionario en una matríz numérica:"
   ]
  },
  {
   "cell_type": "code",
   "execution_count": 57,
   "metadata": {
    "ExecuteTime": {
     "end_time": "2023-12-30T12:26:08.652660Z",
     "start_time": "2023-12-30T12:26:08.570739Z"
    }
   },
   "outputs": [
    {
     "data": {
      "text/plain": "array([  1.  ,   0.  ,   0.  ,   1.  ,   0.  ,   1.  ,   0.  ,   0.  ,\n         0.  ,   1.  ,   0.  ,   1.  ,   0.  ,  85.55,   1.  ,   0.  ,\n         0.  ,   0.  ,   0.  ,   1.  ,   1.  ,   0.  ,   0.  ,   0.  ,\n         1.  ,   1.  ,   0.  ,   0.  ,   0.  ,   1.  ,   0.  ,   0.  ,\n         1.  ,   1.  ,   0.  ,   0.  ,   1.  ,   1.  ,   0.  ,   0.  ,\n         1.  ,   0.  ,   0.  ,   5.  , 408.5 ])"
     },
     "execution_count": 57,
     "metadata": {},
     "output_type": "execute_result"
    }
   ],
   "source": [
    "X_train = dv.transform(train_dict)\n",
    "X_train[0]"
   ]
  },
  {
   "cell_type": "code",
   "execution_count": 58,
   "metadata": {
    "ExecuteTime": {
     "end_time": "2023-12-30T12:26:08.657242Z",
     "start_time": "2023-12-30T12:26:08.612289Z"
    }
   },
   "outputs": [
    {
     "data": {
      "text/plain": "array(['contract=month-to-month', 'contract=one_year',\n       'contract=two_year', 'dependents=no', 'dependents=yes',\n       'deviceprotection=no', 'deviceprotection=no_internet_service',\n       'deviceprotection=yes', 'gender=female', 'gender=male',\n       'internetservice=dsl', 'internetservice=fiber_optic',\n       'internetservice=no', 'monthlycharges', 'multiplelines=no',\n       'multiplelines=no_phone_service', 'multiplelines=yes',\n       'onlinebackup=no', 'onlinebackup=no_internet_service',\n       'onlinebackup=yes', 'onlinesecurity=no',\n       'onlinesecurity=no_internet_service', 'onlinesecurity=yes',\n       'paperlessbilling=no', 'paperlessbilling=yes', 'partner=no',\n       'partner=yes', 'paymentmethod=bank_transfer_(automatic)',\n       'paymentmethod=credit_card_(automatic)',\n       'paymentmethod=electronic_check', 'paymentmethod=mailed_check',\n       'phoneservice=no', 'phoneservice=yes', 'seniorcitizen',\n       'streamingmovies=no', 'streamingmovies=no_internet_service',\n       'streamingmovies=yes', 'streamingtv=no',\n       'streamingtv=no_internet_service', 'streamingtv=yes',\n       'techsupport=no', 'techsupport=no_internet_service',\n       'techsupport=yes', 'tenure', 'totalcharges'], dtype=object)"
     },
     "execution_count": 58,
     "metadata": {},
     "output_type": "execute_result"
    }
   ],
   "source": [
    "dv.get_feature_names_out()"
   ]
  },
  {
   "cell_type": "markdown",
   "metadata": {},
   "source": [
    "## 4. Entrenamiento del modelo"
   ]
  },
  {
   "cell_type": "code",
   "execution_count": 59,
   "metadata": {
    "ExecuteTime": {
     "end_time": "2023-12-30T12:26:08.697545Z",
     "start_time": "2023-12-30T12:26:08.658956Z"
    }
   },
   "outputs": [
    {
     "data": {
      "text/plain": "LogisticRegression(solver='liblinear')",
      "text/html": "<style>#sk-container-id-4 {color: black;}#sk-container-id-4 pre{padding: 0;}#sk-container-id-4 div.sk-toggleable {background-color: white;}#sk-container-id-4 label.sk-toggleable__label {cursor: pointer;display: block;width: 100%;margin-bottom: 0;padding: 0.3em;box-sizing: border-box;text-align: center;}#sk-container-id-4 label.sk-toggleable__label-arrow:before {content: \"▸\";float: left;margin-right: 0.25em;color: #696969;}#sk-container-id-4 label.sk-toggleable__label-arrow:hover:before {color: black;}#sk-container-id-4 div.sk-estimator:hover label.sk-toggleable__label-arrow:before {color: black;}#sk-container-id-4 div.sk-toggleable__content {max-height: 0;max-width: 0;overflow: hidden;text-align: left;background-color: #f0f8ff;}#sk-container-id-4 div.sk-toggleable__content pre {margin: 0.2em;color: black;border-radius: 0.25em;background-color: #f0f8ff;}#sk-container-id-4 input.sk-toggleable__control:checked~div.sk-toggleable__content {max-height: 200px;max-width: 100%;overflow: auto;}#sk-container-id-4 input.sk-toggleable__control:checked~label.sk-toggleable__label-arrow:before {content: \"▾\";}#sk-container-id-4 div.sk-estimator input.sk-toggleable__control:checked~label.sk-toggleable__label {background-color: #d4ebff;}#sk-container-id-4 div.sk-label input.sk-toggleable__control:checked~label.sk-toggleable__label {background-color: #d4ebff;}#sk-container-id-4 input.sk-hidden--visually {border: 0;clip: rect(1px 1px 1px 1px);clip: rect(1px, 1px, 1px, 1px);height: 1px;margin: -1px;overflow: hidden;padding: 0;position: absolute;width: 1px;}#sk-container-id-4 div.sk-estimator {font-family: monospace;background-color: #f0f8ff;border: 1px dotted black;border-radius: 0.25em;box-sizing: border-box;margin-bottom: 0.5em;}#sk-container-id-4 div.sk-estimator:hover {background-color: #d4ebff;}#sk-container-id-4 div.sk-parallel-item::after {content: \"\";width: 100%;border-bottom: 1px solid gray;flex-grow: 1;}#sk-container-id-4 div.sk-label:hover label.sk-toggleable__label {background-color: #d4ebff;}#sk-container-id-4 div.sk-serial::before {content: \"\";position: absolute;border-left: 1px solid gray;box-sizing: border-box;top: 0;bottom: 0;left: 50%;z-index: 0;}#sk-container-id-4 div.sk-serial {display: flex;flex-direction: column;align-items: center;background-color: white;padding-right: 0.2em;padding-left: 0.2em;position: relative;}#sk-container-id-4 div.sk-item {position: relative;z-index: 1;}#sk-container-id-4 div.sk-parallel {display: flex;align-items: stretch;justify-content: center;background-color: white;position: relative;}#sk-container-id-4 div.sk-item::before, #sk-container-id-4 div.sk-parallel-item::before {content: \"\";position: absolute;border-left: 1px solid gray;box-sizing: border-box;top: 0;bottom: 0;left: 50%;z-index: -1;}#sk-container-id-4 div.sk-parallel-item {display: flex;flex-direction: column;z-index: 1;position: relative;background-color: white;}#sk-container-id-4 div.sk-parallel-item:first-child::after {align-self: flex-end;width: 50%;}#sk-container-id-4 div.sk-parallel-item:last-child::after {align-self: flex-start;width: 50%;}#sk-container-id-4 div.sk-parallel-item:only-child::after {width: 0;}#sk-container-id-4 div.sk-dashed-wrapped {border: 1px dashed gray;margin: 0 0.4em 0.5em 0.4em;box-sizing: border-box;padding-bottom: 0.4em;background-color: white;}#sk-container-id-4 div.sk-label label {font-family: monospace;font-weight: bold;display: inline-block;line-height: 1.2em;}#sk-container-id-4 div.sk-label-container {text-align: center;}#sk-container-id-4 div.sk-container {/* jupyter's `normalize.less` sets `[hidden] { display: none; }` but bootstrap.min.css set `[hidden] { display: none !important; }` so we also need the `!important` here to be able to override the default hidden behavior on the sphinx rendered scikit-learn.org. See: https://github.com/scikit-learn/scikit-learn/issues/21755 */display: inline-block !important;position: relative;}#sk-container-id-4 div.sk-text-repr-fallback {display: none;}</style><div id=\"sk-container-id-4\" class=\"sk-top-container\"><div class=\"sk-text-repr-fallback\"><pre>LogisticRegression(solver=&#x27;liblinear&#x27;)</pre><b>In a Jupyter environment, please rerun this cell to show the HTML representation or trust the notebook. <br />On GitHub, the HTML representation is unable to render, please try loading this page with nbviewer.org.</b></div><div class=\"sk-container\" hidden><div class=\"sk-item\"><div class=\"sk-estimator sk-toggleable\"><input class=\"sk-toggleable__control sk-hidden--visually\" id=\"sk-estimator-id-4\" type=\"checkbox\" checked><label for=\"sk-estimator-id-4\" class=\"sk-toggleable__label sk-toggleable__label-arrow\">LogisticRegression</label><div class=\"sk-toggleable__content\"><pre>LogisticRegression(solver=&#x27;liblinear&#x27;)</pre></div></div></div></div></div>"
     },
     "execution_count": 59,
     "metadata": {},
     "output_type": "execute_result"
    }
   ],
   "source": [
    "from sklearn.linear_model import LogisticRegression\n",
    "\n",
    "model = LogisticRegression(solver='liblinear')\n",
    "model.fit(X_train, y_train)"
   ]
  },
  {
   "cell_type": "code",
   "execution_count": 60,
   "metadata": {
    "ExecuteTime": {
     "end_time": "2023-12-30T12:26:08.906946Z",
     "start_time": "2023-12-30T12:26:08.695780Z"
    }
   },
   "outputs": [
    {
     "data": {
      "text/plain": "array([[0.28458696, 0.71541304],\n       [0.81223637, 0.18776363],\n       [0.38571206, 0.61428794],\n       ...,\n       [0.45393402, 0.54606598],\n       [0.96965614, 0.03034386],\n       [0.31202243, 0.68797757]])"
     },
     "execution_count": 60,
     "metadata": {},
     "output_type": "execute_result"
    }
   ],
   "source": [
    "val_dict = df_val[categorical + numerical].to_dict(orient='records')\n",
    "X_val = dv.transform(val_dict)\n",
    "y_pred = model.predict_proba(X_train)\n",
    "y_pred"
   ]
  },
  {
   "cell_type": "code",
   "execution_count": 61,
   "metadata": {
    "ExecuteTime": {
     "end_time": "2023-12-30T12:26:08.917856Z",
     "start_time": "2023-12-30T12:26:08.859486Z"
    }
   },
   "outputs": [
    {
     "data": {
      "text/plain": "array([0.00857285, 0.20971008, 0.21635204, ..., 0.64335595, 0.18943878,\n       0.12737893])"
     },
     "execution_count": 61,
     "metadata": {},
     "output_type": "execute_result"
    }
   ],
   "source": [
    "y_pred = model.predict_proba(X_val)[:, 1]\n",
    "y_pred"
   ]
  },
  {
   "cell_type": "code",
   "execution_count": 62,
   "metadata": {
    "ExecuteTime": {
     "end_time": "2023-12-30T12:26:08.921402Z",
     "start_time": "2023-12-30T12:26:08.869026Z"
    }
   },
   "outputs": [
    {
     "data": {
      "text/plain": "array([False, False, False, ...,  True, False, False])"
     },
     "execution_count": 62,
     "metadata": {},
     "output_type": "execute_result"
    }
   ],
   "source": [
    "churn = y_pred >= 0.5\n",
    "churn"
   ]
  },
  {
   "cell_type": "markdown",
   "source": [
    "Ahora comprobamos como de eficiente es nuestro modelo comprobando con el y_val con respecto al churn (tasa de acierto)."
   ],
   "metadata": {
    "collapsed": false
   }
  },
  {
   "cell_type": "code",
   "execution_count": 63,
   "metadata": {
    "ExecuteTime": {
     "end_time": "2023-12-30T12:26:08.934037Z",
     "start_time": "2023-12-30T12:26:08.880603Z"
    }
   },
   "outputs": [
    {
     "data": {
      "text/plain": "0.805"
     },
     "execution_count": 63,
     "metadata": {},
     "output_type": "execute_result"
    }
   ],
   "source": [
    "round((y_val == churn).mean(), 3)"
   ]
  },
  {
   "cell_type": "markdown",
   "metadata": {},
   "source": [
    "## 5. Serialización del modelo"
   ]
  },
  {
   "cell_type": "markdown",
   "metadata": {},
   "source": [
    "Hasta ahora, hemos realizado todo el proceso de entrenamiento del modelo en memoría. Es decir, si queremos volver a realizar predicciones, tendremos que lanzar todos los comandos anteriores para poder trabajar. Esto no tiene mucho sentido en un entorno real, por lo que a continuación se explicará como utilizar un módulo de la librería `pickle`para evitarnos todo ese trabajo."
   ]
  },
  {
   "cell_type": "code",
   "execution_count": 64,
   "metadata": {
    "ExecuteTime": {
     "end_time": "2023-12-30T12:26:09.099380Z",
     "start_time": "2023-12-30T12:26:08.927110Z"
    }
   },
   "outputs": [],
   "source": [
    "import pickle"
   ]
  },
  {
   "cell_type": "markdown",
   "metadata": {},
   "source": [
    "una vez importado `pickle` creamos una carpeta denominada *models* en nuestro directorio en el que guardaremos, utilizando el formato binario de la librería, el modelo que hemos creado antes:"
   ]
  },
  {
   "cell_type": "code",
   "execution_count": 65,
   "metadata": {
    "ExecuteTime": {
     "end_time": "2023-12-30T12:26:09.137458Z",
     "start_time": "2023-12-30T12:26:09.092571Z"
    }
   },
   "outputs": [],
   "source": [
    "with open('../models/churn-model.pck', 'wb') as f:\n",
    "    pickle.dump((dv, model) , f)"
   ]
  },
  {
   "cell_type": "code",
   "execution_count": 66,
   "metadata": {
    "ExecuteTime": {
     "end_time": "2023-12-30T12:26:09.174824Z",
     "start_time": "2023-12-30T12:26:09.125872Z"
    }
   },
   "outputs": [],
   "source": [
    "with open('../models/churn-model.pck','rb') as f:\n",
    "    dv, model = pickle.load(f)\n",
    "    X_val = dv.transform(val_dict)\n",
    "    y_pred = model.predict_proba(X_val)"
   ]
  },
  {
   "cell_type": "markdown",
   "metadata": {},
   "source": [
    "# ANEXO: Creación de un servicio para utilizar el modelo"
   ]
  },
  {
   "cell_type": "code",
   "execution_count": 70,
   "metadata": {
    "ExecuteTime": {
     "end_time": "2023-12-30T12:26:48.338785Z",
     "start_time": "2023-12-30T12:26:48.329692Z"
    }
   },
   "outputs": [],
   "source": [
    "def predict_single(customer, dv, model):\n",
    "    x = dv.transform(customer)\n",
    "    y_pred = model.predict_proba(x)[:,1]\n",
    "    return (y_pred[0] >= 0.5, y_pred[0])\n"
   ]
  },
  {
   "cell_type": "code",
   "execution_count": 73,
   "metadata": {
    "ExecuteTime": {
     "end_time": "2023-12-30T12:28:22.662298Z",
     "start_time": "2023-12-30T12:28:22.227060Z"
    }
   },
   "outputs": [
    {
     "name": "stdout",
     "output_type": "stream",
     "text": [
      " * Serving Flask app 'churn-predict'\n",
      " * Debug mode: on\n"
     ]
    },
    {
     "name": "stderr",
     "output_type": "stream",
     "text": [
      "\u001B[31m\u001B[1mWARNING: This is a development server. Do not use it in a production deployment. Use a production WSGI server instead.\u001B[0m\n",
      " * Running on http://127.0.0.1:8000\n",
      "\u001B[33mPress CTRL+C to quit\u001B[0m\n",
      " * Restarting with stat\n",
      "0.00s - Debugger warning: It seems that frozen modules are being used, which may\n",
      "0.00s - make the debugger miss breakpoints. Please pass -Xfrozen_modules=off\n",
      "0.00s - to python to disable frozen modules.\n",
      "0.00s - Note: Debugging will proceed. Set PYDEVD_DISABLE_FILE_VALIDATION=1 to disable this validation.\n",
      "Traceback (most recent call last):\n",
      "  File \"<frozen runpy>\", line 198, in _run_module_as_main\n",
      "  File \"<frozen runpy>\", line 88, in _run_code\n",
      "  File \"/Users/adry/Library/Caches/pypoetry/virtualenvs/es-adry-pia-7pN_Q4VZ-py3.12/lib/python3.12/site-packages/ipykernel_launcher.py\", line 17, in <module>\n",
      "    app.launch_new_instance()\n",
      "  File \"/Users/adry/Library/Caches/pypoetry/virtualenvs/es-adry-pia-7pN_Q4VZ-py3.12/lib/python3.12/site-packages/traitlets/config/application.py\", line 1076, in launch_instance\n",
      "    app.initialize(argv)\n",
      "  File \"/Users/adry/Library/Caches/pypoetry/virtualenvs/es-adry-pia-7pN_Q4VZ-py3.12/lib/python3.12/site-packages/traitlets/config/application.py\", line 118, in inner\n",
      "    return method(app, *args, **kwargs)\n",
      "           ^^^^^^^^^^^^^^^^^^^^^^^^^^^^\n",
      "  File \"/Users/adry/Library/Caches/pypoetry/virtualenvs/es-adry-pia-7pN_Q4VZ-py3.12/lib/python3.12/site-packages/ipykernel/kernelapp.py\", line 692, in initialize\n",
      "    self.init_sockets()\n",
      "  File \"/Users/adry/Library/Caches/pypoetry/virtualenvs/es-adry-pia-7pN_Q4VZ-py3.12/lib/python3.12/site-packages/ipykernel/kernelapp.py\", line 331, in init_sockets\n",
      "    self.shell_port = self._bind_socket(self.shell_socket, self.shell_port)\n",
      "                      ^^^^^^^^^^^^^^^^^^^^^^^^^^^^^^^^^^^^^^^^^^^^^^^^^^^^^\n",
      "  File \"/Users/adry/Library/Caches/pypoetry/virtualenvs/es-adry-pia-7pN_Q4VZ-py3.12/lib/python3.12/site-packages/ipykernel/kernelapp.py\", line 253, in _bind_socket\n",
      "    return self._try_bind_socket(s, port)\n",
      "           ^^^^^^^^^^^^^^^^^^^^^^^^^^^^^^\n",
      "  File \"/Users/adry/Library/Caches/pypoetry/virtualenvs/es-adry-pia-7pN_Q4VZ-py3.12/lib/python3.12/site-packages/ipykernel/kernelapp.py\", line 229, in _try_bind_socket\n",
      "    s.bind(\"tcp://%s:%i\" % (self.ip, port))\n",
      "  File \"/Users/adry/Library/Caches/pypoetry/virtualenvs/es-adry-pia-7pN_Q4VZ-py3.12/lib/python3.12/site-packages/zmq/sugar/socket.py\", line 302, in bind\n",
      "    super().bind(addr)\n",
      "  File \"zmq/backend/cython/socket.pyx\", line 564, in zmq.backend.cython.socket.Socket.bind\n",
      "  File \"zmq/backend/cython/checkrc.pxd\", line 28, in zmq.backend.cython.checkrc._check_rc\n",
      "zmq.error.ZMQError: Address already in use (addr='tcp://127.0.0.1:60309')\n"
     ]
    },
    {
     "ename": "SystemExit",
     "evalue": "1",
     "output_type": "error",
     "traceback": [
      "An exception has occurred, use %tb to see the full traceback.\n",
      "\u001B[0;31mSystemExit\u001B[0m\u001B[0;31m:\u001B[0m 1\n"
     ]
    },
    {
     "name": "stderr",
     "output_type": "stream",
     "text": [
      "/Users/adry/Library/Caches/pypoetry/virtualenvs/es-adry-pia-7pN_Q4VZ-py3.12/lib/python3.12/site-packages/IPython/core/interactiveshell.py:3558: UserWarning: To exit: use 'exit', 'quit', or Ctrl-D.\n",
      "  warn(\"To exit: use 'exit', 'quit', or Ctrl-D.\", stacklevel=1)\n"
     ]
    }
   ],
   "source": [
    "import pickle\n",
    "\n",
    "from flask import Flask, jsonify, request\n",
    "\n",
    "#from churn_predict_service import predict_single\n",
    "\n",
    "app = Flask('churn-predict')\n",
    "\n",
    "with open('../models/churn-model.pck', 'rb') as f:\n",
    "    dv, model = pickle.load(f)\n",
    "\n",
    "\n",
    "@app.route('/predict', methods=['POST'])\n",
    "def predict():\n",
    "    customer = request.get_json()\n",
    "    churn, prediction = predict_single(customer, dv, model)\n",
    "\n",
    "    result = {\n",
    "        'churn': bool(churn),\n",
    "        'churn_probability': float(prediction),\n",
    "    }\n",
    "\n",
    "    return jsonify(result)\n",
    "\n",
    "\n",
    "if __name__ == '__main__':\n",
    "    app.run(debug=True, port=8000)"
   ]
  }
 ],
 "metadata": {
  "kernelspec": {
   "display_name": "programacionia-TyvBfFRb-py3.10",
   "language": "python",
   "name": "python3"
  },
  "language_info": {
   "codemirror_mode": {
    "name": "ipython",
    "version": 3
   },
   "file_extension": ".py",
   "mimetype": "text/x-python",
   "name": "python",
   "nbconvert_exporter": "python",
   "pygments_lexer": "ipython3",
   "version": "3.10.12"
  }
 },
 "nbformat": 4,
 "nbformat_minor": 2
}
